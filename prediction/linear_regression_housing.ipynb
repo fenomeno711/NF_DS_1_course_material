{
 "cells": [
  {
   "cell_type": "code",
   "execution_count": null,
   "metadata": {},
   "outputs": [],
   "source": [
    "import numpy as np\n",
    "import pandas as pd\n",
    "\n",
    "import matplotlib.pyplot as plt\n",
    "from sklearn import datasets, linear_model\n",
    "from sklearn.metrics import mean_squared_error, r2_score\n",
    "from sklearn.model_selection import train_test_split\n",
    "from sklearn.preprocessing import LabelEncoder, OneHotEncoder\n",
    "\n",
    "import seaborn as sns\n",
    "sns.set()"
   ]
  },
  {
   "cell_type": "code",
   "execution_count": null,
   "metadata": {},
   "outputs": [],
   "source": [
    "data_raw = pd.read_csv(\"data/housing/housing.csv\")"
   ]
  },
  {
   "cell_type": "code",
   "execution_count": null,
   "metadata": {},
   "outputs": [],
   "source": [
    "print(data_raw.columns)"
   ]
  },
  {
   "cell_type": "code",
   "execution_count": null,
   "metadata": {},
   "outputs": [],
   "source": [
    "data_raw.describe()"
   ]
  },
  {
   "cell_type": "markdown",
   "metadata": {},
   "source": [
    "#### Plot scatter between feature pairs to check for non-linear dependencies"
   ]
  },
  {
   "cell_type": "code",
   "execution_count": null,
   "metadata": {},
   "outputs": [],
   "source": [
    "# for simplicity I drop the NaN values and the categorical column ocean_proximity\n",
    "# random_sample = data.dropna().drop(columns=['ocean_proximity']).sample(n=1000)\n",
    "# sns.pairplot(random_sample);"
   ]
  },
  {
   "cell_type": "code",
   "execution_count": null,
   "metadata": {},
   "outputs": [],
   "source": [
    "#data = data_raw.where(data_raw['median_house_value'] != 500001.000000)"
   ]
  },
  {
   "cell_type": "code",
   "execution_count": null,
   "metadata": {},
   "outputs": [],
   "source": [
    "#data = data_raw.query('median_house_value != 500001.000000')"
   ]
  },
  {
   "cell_type": "code",
   "execution_count": null,
   "metadata": {},
   "outputs": [],
   "source": [
    "data = data_raw"
   ]
  },
  {
   "cell_type": "markdown",
   "metadata": {},
   "source": [
    "### Encode input Data"
   ]
  },
  {
   "cell_type": "code",
   "execution_count": null,
   "metadata": {},
   "outputs": [],
   "source": [
    "# ONE-HOT-ENCODE ocean proximity\n",
    "data_str_ocean = data['ocean_proximity'].values\n",
    "\n",
    "# transform to numerical\n",
    "data_ocean = LabelEncoder().fit_transform(data_str_ocean.ravel()).reshape(*data_str_ocean.shape)\n",
    "\n",
    "# transform to binary\n",
    "data_ocean_bin = OneHotEncoder().fit_transform(data_ocean.reshape(-1, 1)).toarray()"
   ]
  },
  {
   "cell_type": "code",
   "execution_count": null,
   "metadata": {},
   "outputs": [],
   "source": [
    "data['old_house'] = 0\n",
    "mask = (data['housing_median_age'] == 52)\n",
    "data.loc[mask, 'old_house'] = 1"
   ]
  },
  {
   "cell_type": "code",
   "execution_count": null,
   "metadata": {},
   "outputs": [],
   "source": [
    "data['median_income_log'] = data['median_income'].apply(np.log)"
   ]
  },
  {
   "cell_type": "code",
   "execution_count": null,
   "metadata": {},
   "outputs": [],
   "source": [
    "data['density'] = data['population']/data['households']\n",
    "data['density_bedrooms'] = data['population']/data['total_bedrooms']\n",
    "data['room_ratio'] = data['total_bedrooms']/data['total_rooms']"
   ]
  },
  {
   "cell_type": "code",
   "execution_count": null,
   "metadata": {},
   "outputs": [],
   "source": [
    "data['rich_district'] = 0\n",
    "mask = (data['median_income'] > 10)\n",
    "data.loc[mask, 'rich_district'] = 1"
   ]
  },
  {
   "cell_type": "code",
   "execution_count": null,
   "metadata": {},
   "outputs": [],
   "source": [
    "data['poor_district'] = 0\n",
    "mask = (data['median_income'] < 2)\n",
    "data.loc[mask, 'poor_district'] = 1"
   ]
  },
  {
   "cell_type": "code",
   "execution_count": null,
   "metadata": {},
   "outputs": [],
   "source": [
    "data.head()"
   ]
  },
  {
   "cell_type": "markdown",
   "metadata": {},
   "source": [
    "### Assign input and target values, split in test and train"
   ]
  },
  {
   "cell_type": "code",
   "execution_count": null,
   "metadata": {},
   "outputs": [],
   "source": [
    "y = data['median_house_value'].values\n",
    "X = data.drop(columns=['median_house_value', 'ocean_proximity', 'median_income']).values"
   ]
  },
  {
   "cell_type": "code",
   "execution_count": null,
   "metadata": {},
   "outputs": [],
   "source": [
    "# Concat one-hot encoded features to input data\n",
    "X = np.concatenate([X,data_ocean_bin], axis=1)"
   ]
  },
  {
   "cell_type": "code",
   "execution_count": null,
   "metadata": {},
   "outputs": [],
   "source": [
    "X_train, X_test, y_train, y_test = train_test_split(X, y, test_size=0.33, random_state=42)"
   ]
  },
  {
   "cell_type": "code",
   "execution_count": null,
   "metadata": {},
   "outputs": [],
   "source": [
    "age_mean = X_train[:,2].mean()\n",
    "inds = np.where(X_train[:,2]==52)\n",
    "X_train[inds,2] = age_mean"
   ]
  },
  {
   "cell_type": "code",
   "execution_count": null,
   "metadata": {},
   "outputs": [],
   "source": [
    "inds = np.where(X_test[:,2]==52)\n",
    "X_test[inds,2] = age_mean"
   ]
  },
  {
   "cell_type": "markdown",
   "metadata": {},
   "source": [
    "### Fix NaN Values"
   ]
  },
  {
   "cell_type": "code",
   "execution_count": null,
   "metadata": {},
   "outputs": [],
   "source": [
    "#--- TRAIN\n",
    "#Obtain mean of columns as you need, nanmean is just convenient.\n",
    "col_mean = np.nanmean(X_train, axis=0)\n",
    "\n",
    "#Find indicies that you need to replace in TRAIN\n",
    "inds = np.where(np.isnan(X_train))\n",
    "\n",
    "#Place column means in the indices. Align the arrays using take\n",
    "X_train[inds] = np.take(col_mean, inds[1])\n",
    "\n",
    "#--- TEST\n",
    "#Find indicies that you need to replace in TEST\n",
    "inds = np.where(np.isnan(X_test))\n",
    "\n",
    "#Place column means in the indices. Align the arrays using take\n",
    "X_test[inds] = np.take(col_mean, inds[1])\n"
   ]
  },
  {
   "cell_type": "markdown",
   "metadata": {},
   "source": [
    "### Train model"
   ]
  },
  {
   "cell_type": "code",
   "execution_count": null,
   "metadata": {},
   "outputs": [],
   "source": [
    "lm = linear_model.LinearRegression()"
   ]
  },
  {
   "cell_type": "code",
   "execution_count": null,
   "metadata": {},
   "outputs": [],
   "source": [
    "# fit linear model to training subset \n",
    "model = lm.fit(X_train, y_train)\n",
    "    \n",
    "# make a prediction using the test subset\n",
    "y_pred = lm.predict(X_test)\n",
    "    \n",
    "\n",
    "# Print Errors\n",
    "print(\"MSE: \", mean_squared_error(y_test, y_pred))\n",
    "print(\"RMSE: \", np.sqrt(((y_test - y_pred) ** 2).mean()))\n",
    "print(\"R2: \", r2_score(y_test, y_pred))"
   ]
  },
  {
   "cell_type": "code",
   "execution_count": null,
   "metadata": {},
   "outputs": [],
   "source": [
    "#pd.DataFrame([y_pred, y_test]).T"
   ]
  },
  {
   "cell_type": "code",
   "execution_count": null,
   "metadata": {},
   "outputs": [],
   "source": [
    "np.sqrt(((y_test - y_pred) ** 2).mean())/ y_test.mean()"
   ]
  },
  {
   "cell_type": "code",
   "execution_count": null,
   "metadata": {},
   "outputs": [],
   "source": []
  }
 ],
 "metadata": {
  "kernelspec": {
   "display_name": "Python 3",
   "language": "python",
   "name": "python3"
  },
  "language_info": {
   "codemirror_mode": {
    "name": "ipython",
    "version": 3
   },
   "file_extension": ".py",
   "mimetype": "text/x-python",
   "name": "python",
   "nbconvert_exporter": "python",
   "pygments_lexer": "ipython3",
   "version": "3.6.6"
  }
 },
 "nbformat": 4,
 "nbformat_minor": 2
}
